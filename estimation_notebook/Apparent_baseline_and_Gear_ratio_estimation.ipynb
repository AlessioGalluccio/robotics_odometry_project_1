{
  "nbformat": 4,
  "nbformat_minor": 0,
  "metadata": {
    "colab": {
      "name": "Apparent_baseline_and_Gear_ratio_estimation.ipynb",
      "provenance": [],
      "toc_visible": true
    },
    "kernelspec": {
      "display_name": "Python 3",
      "name": "python3"
    },
    "language_info": {
      "name": "python"
    }
  },
  "cells": [
    {
      "cell_type": "markdown",
      "metadata": {
        "id": "z3tul8lM2Q3R"
      },
      "source": [
        "# Estimation of the apparent baseline\n",
        "Author: Alessio Galluccio\n",
        "\n",
        "Tool: Google Colab\n",
        "\n",
        "In this notebook we will try to estimate the apparent baseline of the robot and the gear ratio of the motors. We use bag1 as data. This notebook doesn't need to add data manually, since it automatically downloads it from a repository I created. To obtain the csv files from the bag, I used the library bagpy and a simple script."
      ]
    },
    {
      "cell_type": "markdown",
      "metadata": {
        "id": "COPEMTs5CKnr"
      },
      "source": [
        " \n",
        "\n",
        "*   In the first part of the notebook, we set up the data and the methods needed for the search of the optimal values.\n",
        "*   In the second part, we use the data of the odometry to estimate the value Y0 (which is half the apparent baseline) and the gear ratio.\n",
        "*   In the third part, we use the ground truth to estimate them\n"
      ]
    },
    {
      "cell_type": "markdown",
      "metadata": {
        "id": "w4fF0nCW34w0"
      },
      "source": [
        "## 1) Setting up of data and functions"
      ]
    },
    {
      "cell_type": "code",
      "metadata": {
        "id": "SI3BdBPEp2ic",
        "colab": {
          "base_uri": "https://localhost:8080/"
        },
        "outputId": "c4552aab-d69e-43a2-86db-8f8a87b1a2c1"
      },
      "source": [
        "#import data of bag from my repository\n",
        "!git clone https://github.com/AlessioGalluccio/Bag1_robotics_data"
      ],
      "execution_count": 1,
      "outputs": [
        {
          "output_type": "stream",
          "text": [
            "Cloning into 'Bag1_robotics_data'...\n",
            "remote: Enumerating objects: 8, done.\u001b[K\n",
            "remote: Counting objects: 100% (8/8), done.\u001b[K\n",
            "remote: Compressing objects: 100% (5/5), done.\u001b[K\n",
            "remote: Total 8 (delta 3), reused 8 (delta 3), pack-reused 0\u001b[K\n",
            "Unpacking objects: 100% (8/8), done.\n"
          ],
          "name": "stdout"
        }
      ]
    },
    {
      "cell_type": "code",
      "metadata": {
        "id": "5FWRvnIM1ieL"
      },
      "source": [
        "import pandas as pd\n",
        "import seaborn as sea\n",
        "import matplotlib.pyplot as plt\n",
        "import numpy as np"
      ],
      "execution_count": 2,
      "outputs": []
    },
    {
      "cell_type": "code",
      "metadata": {
        "id": "nhP3XQmq1z-F"
      },
      "source": [
        "scout_odom = pd.read_csv(\"Bag1_robotics_data/scout_odom.csv\")\n",
        "gt_pose = pd.read_csv(\"Bag1_robotics_data/gt_pose.csv\")\n",
        "fl = pd.read_csv(\"Bag1_robotics_data/motor_speed_fl.csv\")\n",
        "fr = pd.read_csv(\"Bag1_robotics_data/motor_speed_fr.csv\")\n",
        "rl = pd.read_csv(\"Bag1_robotics_data/motor_speed_rl.csv\")\n",
        "rr = pd.read_csv(\"Bag1_robotics_data/motor_speed_rr.csv\")"
      ],
      "execution_count": 3,
      "outputs": []
    },
    {
      "cell_type": "code",
      "metadata": {
        "id": "YAjYnOErKVGU"
      },
      "source": [
        "import math\n",
        "\n",
        "#euler_skid\n",
        "def euler_skid(x,y,o,v_forward,vo,T):\n",
        "  vx= v_forward*math.cos(o)\n",
        "  vy= v_forward*math.sin(o)\n",
        "  next_x= x+vx*T\n",
        "  next_y= y+vy*T\n",
        "  next_o= o+vo*T\n",
        "  number_of_rounds = math.floor(next_o /(2*math.pi))\n",
        "  next_o = next_o - number_of_rounds*(2*math.pi)\n",
        "  if(next_o > math.pi):\n",
        "    next_o= next_o - (2*math.pi) #obtain negative radiants\n",
        "  if(next_o <= -math.pi):\n",
        "    next_o= next_o + (2*math.pi) #obtain positive radiants\n",
        "  return next_x, next_y, next_o\n",
        "\n",
        "#loss used: root of sum of squared errors of x, y and orientation\n",
        "def loss(x_eul, y_eul, o_eul, x_true, y_true, z_true):\n",
        "  return math.sqrt(math.pow(x_eul - x_true, 2) + math.pow(y_eul - y_true, 2) + math.pow(o_eul - z_true, 2))\n",
        "\n",
        "#Skid steering\n",
        "def skidSpeed(fl_rpm,fr_rpm,rl_rpm,rr_rpm,Y0, ROTATION_FOR_M, GEAR_RATIO):\n",
        "  #GEAR_RATIO= 40\n",
        "  SECONDS_IN_MINUTE = 60\n",
        "  vel_right= (fr_rpm + rr_rpm)/(2 * ROTATION_FOR_M * GEAR_RATIO * SECONDS_IN_MINUTE)\n",
        "  #I PUT MINUS BECAUSE LEFT VELOCITY ARE REVERSED\n",
        "  vel_left= -(fl_rpm + rl_rpm)/(2 * ROTATION_FOR_M*GEAR_RATIO * SECONDS_IN_MINUTE)\n",
        "  v_forward = (vel_right + vel_left)/2\n",
        "  vo = (-vel_left + vel_right)/(2*Y0)\n",
        "  return v_forward, vo\n",
        "\n",
        "#obstain roll, pitch and yaw from a quaternion\n",
        "def values_from_quaternion(x, y, z, w):\n",
        "        \"\"\"\n",
        "        Convert a quaternion into euler angles (roll, pitch, yaw)\n",
        "        roll is rotation around x in radians (counterclockwise)\n",
        "        pitch is rotation around y in radians (counterclockwise)\n",
        "        yaw is rotation around z in radians (counterclockwise)\n",
        "        \"\"\"\n",
        "        t0 = +2.0 * (w * x + y * z)\n",
        "        t1 = +1.0 - 2.0 * (x * x + y * y)\n",
        "        roll_x = math.atan2(t0, t1)\n",
        "     \n",
        "        t2 = +2.0 * (w * y - z * x)\n",
        "        t2 = +1.0 if t2 > +1.0 else t2\n",
        "        t2 = -1.0 if t2 < -1.0 else t2\n",
        "        pitch_y = math.asin(t2)\n",
        "     \n",
        "        t3 = +2.0 * (w * z + x * y)\n",
        "        t4 = +1.0 - 2.0 * (y * y + z * z)\n",
        "        yaw_z = math.atan2(t3, t4)\n",
        "     \n",
        "        return roll_x, pitch_y, yaw_z # in radians\n",
        "\n"
      ],
      "execution_count": 4,
      "outputs": []
    },
    {
      "cell_type": "code",
      "metadata": {
        "id": "4ZZ2UNeNqFmm"
      },
      "source": [
        "#calculate all poses of the robot using euler method\n",
        "def give_prediction(Y0, GEAR_RATIO):\n",
        "  prediction=[]\n",
        "  curr_x = scout_odom['pose.pose.position.x'][0]\n",
        "  curr_y = scout_odom['pose.pose.position.y'][0]\n",
        "  roll_x, pitch_y, yaw_z = values_from_quaternion(scout_odom['pose.pose.orientation.x'][0], scout_odom['pose.pose.orientation.y'][0], scout_odom['pose.pose.orientation.z'][0], scout_odom['pose.pose.orientation.w'][0])\n",
        "  curr_z = yaw_z\n",
        "  for t in scout_odom['Unnamed: 0'].to_numpy():\n",
        "    if t!=0:\n",
        "      vx, vo = skidSpeed(fl['rpm'][t], fr['rpm'][t], rl['rpm'][t], rr['rpm'][t], Y0, 1/(0.1575*2*3.14), GEAR_RATIO)\n",
        "      curr_x, curr_y, curr_z = euler_skid(curr_x,\n",
        "                                      curr_y, \n",
        "                                      curr_z, \n",
        "                                      vx, \n",
        "                                      vo,\n",
        "                                      (((scout_odom['header.stamp.nsecs'][t] - scout_odom['header.stamp.nsecs'][t-1])/1000000000) + scout_odom['header.stamp.secs'][t] - scout_odom['header.stamp.secs'][t-1])\n",
        "                                      )\n",
        "      prediction.append([curr_x, curr_y, curr_z])\n",
        "      #print(prediction[t-1])\n",
        "  return prediction"
      ],
      "execution_count": 5,
      "outputs": []
    },
    {
      "cell_type": "markdown",
      "metadata": {
        "id": "i1k7c4M54Ja8"
      },
      "source": [
        "## 2) Estimation from odom"
      ]
    },
    {
      "cell_type": "markdown",
      "metadata": {
        "id": "UXXtg2LH7IAg"
      },
      "source": [
        "### Y0 estimation\n",
        "In the formula used we don't use directly the apparent baseline, but Y0, which is its half (apparent baseline = 2 * Y0). For simplicity, we optimise directly Y0, since it's the value we will use directly in the calulations in the ROS code"
      ]
    },
    {
      "cell_type": "markdown",
      "metadata": {
        "id": "4aGYGkeJ7lzp"
      },
      "source": [
        "Here we can see how the frames of scout_odom and the speeds are organized (for simplicity, only the front left speed is showed)"
      ]
    },
    {
      "cell_type": "code",
      "metadata": {
        "id": "2rjYuVPOrScT",
        "colab": {
          "base_uri": "https://localhost:8080/",
          "height": 796
        },
        "outputId": "f271dd5f-6d22-442f-ad41-b55551c08d11"
      },
      "source": [
        "scout_odom"
      ],
      "execution_count": 6,
      "outputs": [
        {
          "output_type": "execute_result",
          "data": {
            "text/html": [
              "<div>\n",
              "<style scoped>\n",
              "    .dataframe tbody tr th:only-of-type {\n",
              "        vertical-align: middle;\n",
              "    }\n",
              "\n",
              "    .dataframe tbody tr th {\n",
              "        vertical-align: top;\n",
              "    }\n",
              "\n",
              "    .dataframe thead th {\n",
              "        text-align: right;\n",
              "    }\n",
              "</style>\n",
              "<table border=\"1\" class=\"dataframe\">\n",
              "  <thead>\n",
              "    <tr style=\"text-align: right;\">\n",
              "      <th></th>\n",
              "      <th>Unnamed: 0</th>\n",
              "      <th>Time</th>\n",
              "      <th>header.seq</th>\n",
              "      <th>header.stamp.secs</th>\n",
              "      <th>header.stamp.nsecs</th>\n",
              "      <th>header.frame_id</th>\n",
              "      <th>child_frame_id</th>\n",
              "      <th>pose.pose.position.x</th>\n",
              "      <th>pose.pose.position.y</th>\n",
              "      <th>pose.pose.position.z</th>\n",
              "      <th>pose.pose.orientation.x</th>\n",
              "      <th>pose.pose.orientation.y</th>\n",
              "      <th>pose.pose.orientation.z</th>\n",
              "      <th>pose.pose.orientation.w</th>\n",
              "      <th>pose.covariance</th>\n",
              "      <th>twist.twist.linear.x</th>\n",
              "      <th>twist.twist.linear.y</th>\n",
              "      <th>twist.twist.linear.z</th>\n",
              "      <th>twist.twist.angular.x</th>\n",
              "      <th>twist.twist.angular.y</th>\n",
              "      <th>twist.twist.angular.z</th>\n",
              "      <th>twist.covariance</th>\n",
              "    </tr>\n",
              "  </thead>\n",
              "  <tbody>\n",
              "    <tr>\n",
              "      <th>0</th>\n",
              "      <td>0</td>\n",
              "      <td>1.617792e+09</td>\n",
              "      <td>1116</td>\n",
              "      <td>1617791999</td>\n",
              "      <td>95527767</td>\n",
              "      <td>odom</td>\n",
              "      <td>base_link</td>\n",
              "      <td>0.000000</td>\n",
              "      <td>0.000000</td>\n",
              "      <td>0.0</td>\n",
              "      <td>0.0</td>\n",
              "      <td>0.0</td>\n",
              "      <td>0.000000</td>\n",
              "      <td>1.000000</td>\n",
              "      <td>(0.0, 0.0, 0.0, 0.0, 0.0, 0.0, 0.0, 0.0, 0.0, ...</td>\n",
              "      <td>0.0</td>\n",
              "      <td>0.0</td>\n",
              "      <td>0.0</td>\n",
              "      <td>0.0</td>\n",
              "      <td>0.0</td>\n",
              "      <td>0.0</td>\n",
              "      <td>(0.0, 0.0, 0.0, 0.0, 0.0, 0.0, 0.0, 0.0, 0.0, ...</td>\n",
              "    </tr>\n",
              "    <tr>\n",
              "      <th>1</th>\n",
              "      <td>1</td>\n",
              "      <td>1.617792e+09</td>\n",
              "      <td>1117</td>\n",
              "      <td>1617791999</td>\n",
              "      <td>115525756</td>\n",
              "      <td>odom</td>\n",
              "      <td>base_link</td>\n",
              "      <td>0.000000</td>\n",
              "      <td>0.000000</td>\n",
              "      <td>0.0</td>\n",
              "      <td>0.0</td>\n",
              "      <td>0.0</td>\n",
              "      <td>0.000000</td>\n",
              "      <td>1.000000</td>\n",
              "      <td>(0.0, 0.0, 0.0, 0.0, 0.0, 0.0, 0.0, 0.0, 0.0, ...</td>\n",
              "      <td>0.0</td>\n",
              "      <td>0.0</td>\n",
              "      <td>0.0</td>\n",
              "      <td>0.0</td>\n",
              "      <td>0.0</td>\n",
              "      <td>0.0</td>\n",
              "      <td>(0.0, 0.0, 0.0, 0.0, 0.0, 0.0, 0.0, 0.0, 0.0, ...</td>\n",
              "    </tr>\n",
              "    <tr>\n",
              "      <th>2</th>\n",
              "      <td>2</td>\n",
              "      <td>1.617792e+09</td>\n",
              "      <td>1118</td>\n",
              "      <td>1617791999</td>\n",
              "      <td>135545530</td>\n",
              "      <td>odom</td>\n",
              "      <td>base_link</td>\n",
              "      <td>0.000000</td>\n",
              "      <td>0.000000</td>\n",
              "      <td>0.0</td>\n",
              "      <td>0.0</td>\n",
              "      <td>0.0</td>\n",
              "      <td>0.000000</td>\n",
              "      <td>1.000000</td>\n",
              "      <td>(0.0, 0.0, 0.0, 0.0, 0.0, 0.0, 0.0, 0.0, 0.0, ...</td>\n",
              "      <td>0.0</td>\n",
              "      <td>0.0</td>\n",
              "      <td>0.0</td>\n",
              "      <td>0.0</td>\n",
              "      <td>0.0</td>\n",
              "      <td>0.0</td>\n",
              "      <td>(0.0, 0.0, 0.0, 0.0, 0.0, 0.0, 0.0, 0.0, 0.0, ...</td>\n",
              "    </tr>\n",
              "    <tr>\n",
              "      <th>3</th>\n",
              "      <td>3</td>\n",
              "      <td>1.617792e+09</td>\n",
              "      <td>1119</td>\n",
              "      <td>1617791999</td>\n",
              "      <td>155560259</td>\n",
              "      <td>odom</td>\n",
              "      <td>base_link</td>\n",
              "      <td>0.000000</td>\n",
              "      <td>0.000000</td>\n",
              "      <td>0.0</td>\n",
              "      <td>0.0</td>\n",
              "      <td>0.0</td>\n",
              "      <td>0.000000</td>\n",
              "      <td>1.000000</td>\n",
              "      <td>(0.0, 0.0, 0.0, 0.0, 0.0, 0.0, 0.0, 0.0, 0.0, ...</td>\n",
              "      <td>0.0</td>\n",
              "      <td>0.0</td>\n",
              "      <td>0.0</td>\n",
              "      <td>0.0</td>\n",
              "      <td>0.0</td>\n",
              "      <td>0.0</td>\n",
              "      <td>(0.0, 0.0, 0.0, 0.0, 0.0, 0.0, 0.0, 0.0, 0.0, ...</td>\n",
              "    </tr>\n",
              "    <tr>\n",
              "      <th>4</th>\n",
              "      <td>4</td>\n",
              "      <td>1.617792e+09</td>\n",
              "      <td>1120</td>\n",
              "      <td>1617791999</td>\n",
              "      <td>175564911</td>\n",
              "      <td>odom</td>\n",
              "      <td>base_link</td>\n",
              "      <td>0.000000</td>\n",
              "      <td>0.000000</td>\n",
              "      <td>0.0</td>\n",
              "      <td>0.0</td>\n",
              "      <td>0.0</td>\n",
              "      <td>0.000000</td>\n",
              "      <td>1.000000</td>\n",
              "      <td>(0.0, 0.0, 0.0, 0.0, 0.0, 0.0, 0.0, 0.0, 0.0, ...</td>\n",
              "      <td>0.0</td>\n",
              "      <td>0.0</td>\n",
              "      <td>0.0</td>\n",
              "      <td>0.0</td>\n",
              "      <td>0.0</td>\n",
              "      <td>0.0</td>\n",
              "      <td>(0.0, 0.0, 0.0, 0.0, 0.0, 0.0, 0.0, 0.0, 0.0, ...</td>\n",
              "    </tr>\n",
              "    <tr>\n",
              "      <th>...</th>\n",
              "      <td>...</td>\n",
              "      <td>...</td>\n",
              "      <td>...</td>\n",
              "      <td>...</td>\n",
              "      <td>...</td>\n",
              "      <td>...</td>\n",
              "      <td>...</td>\n",
              "      <td>...</td>\n",
              "      <td>...</td>\n",
              "      <td>...</td>\n",
              "      <td>...</td>\n",
              "      <td>...</td>\n",
              "      <td>...</td>\n",
              "      <td>...</td>\n",
              "      <td>...</td>\n",
              "      <td>...</td>\n",
              "      <td>...</td>\n",
              "      <td>...</td>\n",
              "      <td>...</td>\n",
              "      <td>...</td>\n",
              "      <td>...</td>\n",
              "      <td>...</td>\n",
              "    </tr>\n",
              "    <tr>\n",
              "      <th>14130</th>\n",
              "      <td>14130</td>\n",
              "      <td>1.617792e+09</td>\n",
              "      <td>15246</td>\n",
              "      <td>1617792281</td>\n",
              "      <td>695527109</td>\n",
              "      <td>odom</td>\n",
              "      <td>base_link</td>\n",
              "      <td>-2.286034</td>\n",
              "      <td>-1.444192</td>\n",
              "      <td>0.0</td>\n",
              "      <td>-0.0</td>\n",
              "      <td>0.0</td>\n",
              "      <td>0.790465</td>\n",
              "      <td>-0.612507</td>\n",
              "      <td>(0.0, 0.0, 0.0, 0.0, 0.0, 0.0, 0.0, 0.0, 0.0, ...</td>\n",
              "      <td>0.0</td>\n",
              "      <td>0.0</td>\n",
              "      <td>0.0</td>\n",
              "      <td>0.0</td>\n",
              "      <td>0.0</td>\n",
              "      <td>0.0</td>\n",
              "      <td>(0.0, 0.0, 0.0, 0.0, 0.0, 0.0, 0.0, 0.0, 0.0, ...</td>\n",
              "    </tr>\n",
              "    <tr>\n",
              "      <th>14131</th>\n",
              "      <td>14131</td>\n",
              "      <td>1.617792e+09</td>\n",
              "      <td>15247</td>\n",
              "      <td>1617792281</td>\n",
              "      <td>715546873</td>\n",
              "      <td>odom</td>\n",
              "      <td>base_link</td>\n",
              "      <td>-2.286034</td>\n",
              "      <td>-1.444192</td>\n",
              "      <td>0.0</td>\n",
              "      <td>-0.0</td>\n",
              "      <td>0.0</td>\n",
              "      <td>0.790465</td>\n",
              "      <td>-0.612507</td>\n",
              "      <td>(0.0, 0.0, 0.0, 0.0, 0.0, 0.0, 0.0, 0.0, 0.0, ...</td>\n",
              "      <td>0.0</td>\n",
              "      <td>0.0</td>\n",
              "      <td>0.0</td>\n",
              "      <td>0.0</td>\n",
              "      <td>0.0</td>\n",
              "      <td>0.0</td>\n",
              "      <td>(0.0, 0.0, 0.0, 0.0, 0.0, 0.0, 0.0, 0.0, 0.0, ...</td>\n",
              "    </tr>\n",
              "    <tr>\n",
              "      <th>14132</th>\n",
              "      <td>14132</td>\n",
              "      <td>1.617792e+09</td>\n",
              "      <td>15248</td>\n",
              "      <td>1617792281</td>\n",
              "      <td>735523633</td>\n",
              "      <td>odom</td>\n",
              "      <td>base_link</td>\n",
              "      <td>-2.286034</td>\n",
              "      <td>-1.444192</td>\n",
              "      <td>0.0</td>\n",
              "      <td>-0.0</td>\n",
              "      <td>0.0</td>\n",
              "      <td>0.790465</td>\n",
              "      <td>-0.612507</td>\n",
              "      <td>(0.0, 0.0, 0.0, 0.0, 0.0, 0.0, 0.0, 0.0, 0.0, ...</td>\n",
              "      <td>0.0</td>\n",
              "      <td>0.0</td>\n",
              "      <td>0.0</td>\n",
              "      <td>0.0</td>\n",
              "      <td>0.0</td>\n",
              "      <td>0.0</td>\n",
              "      <td>(0.0, 0.0, 0.0, 0.0, 0.0, 0.0, 0.0, 0.0, 0.0, ...</td>\n",
              "    </tr>\n",
              "    <tr>\n",
              "      <th>14133</th>\n",
              "      <td>14133</td>\n",
              "      <td>1.617792e+09</td>\n",
              "      <td>15249</td>\n",
              "      <td>1617792281</td>\n",
              "      <td>755542347</td>\n",
              "      <td>odom</td>\n",
              "      <td>base_link</td>\n",
              "      <td>-2.286034</td>\n",
              "      <td>-1.444192</td>\n",
              "      <td>0.0</td>\n",
              "      <td>-0.0</td>\n",
              "      <td>0.0</td>\n",
              "      <td>0.790465</td>\n",
              "      <td>-0.612507</td>\n",
              "      <td>(0.0, 0.0, 0.0, 0.0, 0.0, 0.0, 0.0, 0.0, 0.0, ...</td>\n",
              "      <td>0.0</td>\n",
              "      <td>0.0</td>\n",
              "      <td>0.0</td>\n",
              "      <td>0.0</td>\n",
              "      <td>0.0</td>\n",
              "      <td>0.0</td>\n",
              "      <td>(0.0, 0.0, 0.0, 0.0, 0.0, 0.0, 0.0, 0.0, 0.0, ...</td>\n",
              "    </tr>\n",
              "    <tr>\n",
              "      <th>14134</th>\n",
              "      <td>14134</td>\n",
              "      <td>1.617792e+09</td>\n",
              "      <td>15250</td>\n",
              "      <td>1617792281</td>\n",
              "      <td>775523705</td>\n",
              "      <td>odom</td>\n",
              "      <td>base_link</td>\n",
              "      <td>-2.286034</td>\n",
              "      <td>-1.444192</td>\n",
              "      <td>0.0</td>\n",
              "      <td>-0.0</td>\n",
              "      <td>0.0</td>\n",
              "      <td>0.790465</td>\n",
              "      <td>-0.612507</td>\n",
              "      <td>(0.0, 0.0, 0.0, 0.0, 0.0, 0.0, 0.0, 0.0, 0.0, ...</td>\n",
              "      <td>0.0</td>\n",
              "      <td>0.0</td>\n",
              "      <td>0.0</td>\n",
              "      <td>0.0</td>\n",
              "      <td>0.0</td>\n",
              "      <td>0.0</td>\n",
              "      <td>(0.0, 0.0, 0.0, 0.0, 0.0, 0.0, 0.0, 0.0, 0.0, ...</td>\n",
              "    </tr>\n",
              "  </tbody>\n",
              "</table>\n",
              "<p>14135 rows × 22 columns</p>\n",
              "</div>"
            ],
            "text/plain": [
              "       Unnamed: 0  ...                                   twist.covariance\n",
              "0               0  ...  (0.0, 0.0, 0.0, 0.0, 0.0, 0.0, 0.0, 0.0, 0.0, ...\n",
              "1               1  ...  (0.0, 0.0, 0.0, 0.0, 0.0, 0.0, 0.0, 0.0, 0.0, ...\n",
              "2               2  ...  (0.0, 0.0, 0.0, 0.0, 0.0, 0.0, 0.0, 0.0, 0.0, ...\n",
              "3               3  ...  (0.0, 0.0, 0.0, 0.0, 0.0, 0.0, 0.0, 0.0, 0.0, ...\n",
              "4               4  ...  (0.0, 0.0, 0.0, 0.0, 0.0, 0.0, 0.0, 0.0, 0.0, ...\n",
              "...           ...  ...                                                ...\n",
              "14130       14130  ...  (0.0, 0.0, 0.0, 0.0, 0.0, 0.0, 0.0, 0.0, 0.0, ...\n",
              "14131       14131  ...  (0.0, 0.0, 0.0, 0.0, 0.0, 0.0, 0.0, 0.0, 0.0, ...\n",
              "14132       14132  ...  (0.0, 0.0, 0.0, 0.0, 0.0, 0.0, 0.0, 0.0, 0.0, ...\n",
              "14133       14133  ...  (0.0, 0.0, 0.0, 0.0, 0.0, 0.0, 0.0, 0.0, 0.0, ...\n",
              "14134       14134  ...  (0.0, 0.0, 0.0, 0.0, 0.0, 0.0, 0.0, 0.0, 0.0, ...\n",
              "\n",
              "[14135 rows x 22 columns]"
            ]
          },
          "metadata": {
            "tags": []
          },
          "execution_count": 6
        }
      ]
    },
    {
      "cell_type": "code",
      "metadata": {
        "id": "3edlntsmrUBp",
        "colab": {
          "base_uri": "https://localhost:8080/",
          "height": 419
        },
        "outputId": "5d33c699-5bce-46fb-ddc0-db02e173bbd6"
      },
      "source": [
        "fl"
      ],
      "execution_count": 7,
      "outputs": [
        {
          "output_type": "execute_result",
          "data": {
            "text/html": [
              "<div>\n",
              "<style scoped>\n",
              "    .dataframe tbody tr th:only-of-type {\n",
              "        vertical-align: middle;\n",
              "    }\n",
              "\n",
              "    .dataframe tbody tr th {\n",
              "        vertical-align: top;\n",
              "    }\n",
              "\n",
              "    .dataframe thead th {\n",
              "        text-align: right;\n",
              "    }\n",
              "</style>\n",
              "<table border=\"1\" class=\"dataframe\">\n",
              "  <thead>\n",
              "    <tr style=\"text-align: right;\">\n",
              "      <th></th>\n",
              "      <th>Unnamed: 0</th>\n",
              "      <th>Unnamed: 0.1</th>\n",
              "      <th>Time</th>\n",
              "      <th>header.seq</th>\n",
              "      <th>header.stamp.secs</th>\n",
              "      <th>header.stamp.nsecs</th>\n",
              "      <th>header.frame_id</th>\n",
              "      <th>rpm</th>\n",
              "    </tr>\n",
              "  </thead>\n",
              "  <tbody>\n",
              "    <tr>\n",
              "      <th>0</th>\n",
              "      <td>0</td>\n",
              "      <td>0</td>\n",
              "      <td>1.617792e+09</td>\n",
              "      <td>1116</td>\n",
              "      <td>1617791999</td>\n",
              "      <td>95527767</td>\n",
              "      <td>NaN</td>\n",
              "      <td>0.0</td>\n",
              "    </tr>\n",
              "    <tr>\n",
              "      <th>1</th>\n",
              "      <td>1</td>\n",
              "      <td>1</td>\n",
              "      <td>1.617792e+09</td>\n",
              "      <td>1117</td>\n",
              "      <td>1617791999</td>\n",
              "      <td>115525756</td>\n",
              "      <td>NaN</td>\n",
              "      <td>0.0</td>\n",
              "    </tr>\n",
              "    <tr>\n",
              "      <th>2</th>\n",
              "      <td>2</td>\n",
              "      <td>2</td>\n",
              "      <td>1.617792e+09</td>\n",
              "      <td>1118</td>\n",
              "      <td>1617791999</td>\n",
              "      <td>135545530</td>\n",
              "      <td>NaN</td>\n",
              "      <td>0.0</td>\n",
              "    </tr>\n",
              "    <tr>\n",
              "      <th>3</th>\n",
              "      <td>3</td>\n",
              "      <td>3</td>\n",
              "      <td>1.617792e+09</td>\n",
              "      <td>1119</td>\n",
              "      <td>1617791999</td>\n",
              "      <td>155560259</td>\n",
              "      <td>NaN</td>\n",
              "      <td>0.0</td>\n",
              "    </tr>\n",
              "    <tr>\n",
              "      <th>4</th>\n",
              "      <td>4</td>\n",
              "      <td>4</td>\n",
              "      <td>1.617792e+09</td>\n",
              "      <td>1120</td>\n",
              "      <td>1617791999</td>\n",
              "      <td>175564911</td>\n",
              "      <td>NaN</td>\n",
              "      <td>0.0</td>\n",
              "    </tr>\n",
              "    <tr>\n",
              "      <th>...</th>\n",
              "      <td>...</td>\n",
              "      <td>...</td>\n",
              "      <td>...</td>\n",
              "      <td>...</td>\n",
              "      <td>...</td>\n",
              "      <td>...</td>\n",
              "      <td>...</td>\n",
              "      <td>...</td>\n",
              "    </tr>\n",
              "    <tr>\n",
              "      <th>14131</th>\n",
              "      <td>14131</td>\n",
              "      <td>14131</td>\n",
              "      <td>1.617792e+09</td>\n",
              "      <td>15247</td>\n",
              "      <td>1617792281</td>\n",
              "      <td>715546873</td>\n",
              "      <td>NaN</td>\n",
              "      <td>0.0</td>\n",
              "    </tr>\n",
              "    <tr>\n",
              "      <th>14132</th>\n",
              "      <td>14132</td>\n",
              "      <td>14132</td>\n",
              "      <td>1.617792e+09</td>\n",
              "      <td>15248</td>\n",
              "      <td>1617792281</td>\n",
              "      <td>735523633</td>\n",
              "      <td>NaN</td>\n",
              "      <td>0.0</td>\n",
              "    </tr>\n",
              "    <tr>\n",
              "      <th>14133</th>\n",
              "      <td>14133</td>\n",
              "      <td>14133</td>\n",
              "      <td>1.617792e+09</td>\n",
              "      <td>15249</td>\n",
              "      <td>1617792281</td>\n",
              "      <td>755542347</td>\n",
              "      <td>NaN</td>\n",
              "      <td>0.0</td>\n",
              "    </tr>\n",
              "    <tr>\n",
              "      <th>14134</th>\n",
              "      <td>14134</td>\n",
              "      <td>14134</td>\n",
              "      <td>1.617792e+09</td>\n",
              "      <td>15250</td>\n",
              "      <td>1617792281</td>\n",
              "      <td>775523705</td>\n",
              "      <td>NaN</td>\n",
              "      <td>0.0</td>\n",
              "    </tr>\n",
              "    <tr>\n",
              "      <th>14135</th>\n",
              "      <td>14135</td>\n",
              "      <td>14135</td>\n",
              "      <td>1.617792e+09</td>\n",
              "      <td>15251</td>\n",
              "      <td>1617792281</td>\n",
              "      <td>795525589</td>\n",
              "      <td>NaN</td>\n",
              "      <td>0.0</td>\n",
              "    </tr>\n",
              "  </tbody>\n",
              "</table>\n",
              "<p>14136 rows × 8 columns</p>\n",
              "</div>"
            ],
            "text/plain": [
              "       Unnamed: 0  Unnamed: 0.1  ...  header.frame_id  rpm\n",
              "0               0             0  ...              NaN  0.0\n",
              "1               1             1  ...              NaN  0.0\n",
              "2               2             2  ...              NaN  0.0\n",
              "3               3             3  ...              NaN  0.0\n",
              "4               4             4  ...              NaN  0.0\n",
              "...           ...           ...  ...              ...  ...\n",
              "14131       14131         14131  ...              NaN  0.0\n",
              "14132       14132         14132  ...              NaN  0.0\n",
              "14133       14133         14133  ...              NaN  0.0\n",
              "14134       14134         14134  ...              NaN  0.0\n",
              "14135       14135         14135  ...              NaN  0.0\n",
              "\n",
              "[14136 rows x 8 columns]"
            ]
          },
          "metadata": {
            "tags": []
          },
          "execution_count": 7
        }
      ]
    },
    {
      "cell_type": "markdown",
      "metadata": {
        "id": "8J2fOdzs73Is"
      },
      "source": [
        "We test the values of Y0 from 0.1 to 1.1 meters. We use the sum of the squared errors of x, y and orientation of the robot as loss function. We start by selecting 40 as gear ratio. We will later see if it's the best value."
      ]
    },
    {
      "cell_type": "code",
      "metadata": {
        "colab": {
          "base_uri": "https://localhost:8080/"
        },
        "id": "VgcjMLalwEDh",
        "outputId": "7f38a705-bcb3-4a50-e9b4-9554974f8eea"
      },
      "source": [
        "#CURRENT MINIMUM: 0.489 (gear ratio 40)\n",
        "\n",
        "loss_obtained = []\n",
        "y0_tested = []\n",
        "for y0 in np.arange(0.1,1.1,0.01):\n",
        "  prediction = give_prediction(y0, 40)\n",
        "  total_loss = 0\n",
        "  #in 14000 we are sure not to find any error between scout_odom and speeds\n",
        "  for t in range(14000):\n",
        "    roll_x, pitch_y, yaw_z = values_from_quaternion(scout_odom['pose.pose.orientation.x'][t], scout_odom['pose.pose.orientation.y'][t], scout_odom['pose.pose.orientation.z'][t], scout_odom['pose.pose.orientation.w'][t])\n",
        "    #print('x: ',scout_odom['pose.pose.position.x'][t], ' versus ', prediction[t][0])\n",
        "    #print('y: ',scout_odom['pose.pose.position.y'][t], ' versus ', prediction[t][1])\n",
        "    #print('o: ',yaw_z, ' versus ', prediction[t][2])\n",
        "    total_loss += loss(prediction[t][0],prediction[t][1],prediction[t][2], scout_odom['pose.pose.position.x'][t], scout_odom['pose.pose.position.y'][t], yaw_z)\n",
        "    #print(prediction[t])\n",
        "  print('Y0: ', y0, ' loss: ', total_loss)\n",
        "  loss_obtained.append(total_loss)\n",
        "  y0_tested.append(y0)"
      ],
      "execution_count": 8,
      "outputs": [
        {
          "output_type": "stream",
          "text": [
            "Y0:  0.1  loss:  99620.10056588086\n",
            "Y0:  0.11  loss:  92850.18983596512\n",
            "Y0:  0.12  loss:  288146.4506655772\n",
            "Y0:  0.13  loss:  90920.95015986622\n",
            "Y0:  0.13999999999999999  loss:  156290.3279572262\n",
            "Y0:  0.14999999999999997  loss:  96258.60451554396\n",
            "Y0:  0.15999999999999998  loss:  90221.25181150311\n",
            "Y0:  0.16999999999999998  loss:  83581.71962324723\n",
            "Y0:  0.17999999999999997  loss:  103524.96298855319\n",
            "Y0:  0.18999999999999995  loss:  91034.9845199436\n",
            "Y0:  0.19999999999999996  loss:  122131.09228327786\n",
            "Y0:  0.20999999999999996  loss:  205467.77456935763\n",
            "Y0:  0.21999999999999995  loss:  283880.8083561975\n",
            "Y0:  0.22999999999999995  loss:  314868.53483981243\n",
            "Y0:  0.23999999999999994  loss:  296382.8889654829\n",
            "Y0:  0.24999999999999992  loss:  244256.10482234546\n",
            "Y0:  0.2599999999999999  loss:  182751.79947038533\n",
            "Y0:  0.2699999999999999  loss:  130660.33237182864\n",
            "Y0:  0.2799999999999999  loss:  104313.85894896674\n",
            "Y0:  0.2899999999999999  loss:  89979.72425397132\n",
            "Y0:  0.29999999999999993  loss:  75593.5492991634\n",
            "Y0:  0.30999999999999994  loss:  64164.417193273206\n",
            "Y0:  0.3199999999999999  loss:  68967.08640942797\n",
            "Y0:  0.32999999999999985  loss:  78786.55891668989\n",
            "Y0:  0.33999999999999986  loss:  85219.53958223027\n",
            "Y0:  0.34999999999999987  loss:  87966.00142815417\n",
            "Y0:  0.3599999999999999  loss:  88585.4397996911\n",
            "Y0:  0.3699999999999999  loss:  87601.53593416756\n",
            "Y0:  0.3799999999999999  loss:  85576.18889021683\n",
            "Y0:  0.3899999999999999  loss:  83113.44282150228\n",
            "Y0:  0.3999999999999998  loss:  82081.6258588833\n",
            "Y0:  0.4099999999999998  loss:  79498.73651771394\n",
            "Y0:  0.4199999999999998  loss:  74111.34195622784\n",
            "Y0:  0.4299999999999998  loss:  67521.98762533582\n",
            "Y0:  0.43999999999999984  loss:  59095.501053018976\n",
            "Y0:  0.44999999999999984  loss:  49846.397734121434\n",
            "Y0:  0.45999999999999985  loss:  38906.230207754095\n",
            "Y0:  0.46999999999999986  loss:  27608.224087464143\n",
            "Y0:  0.47999999999999976  loss:  16484.396533844785\n",
            "Y0:  0.48999999999999977  loss:  5431.681358757196\n",
            "Y0:  0.4999999999999998  loss:  8468.973174639814\n",
            "Y0:  0.5099999999999998  loss:  20285.713430204534\n",
            "Y0:  0.5199999999999998  loss:  30960.4499802781\n",
            "Y0:  0.5299999999999998  loss:  40879.58032285484\n",
            "Y0:  0.5399999999999998  loss:  48851.17483085981\n",
            "Y0:  0.5499999999999998  loss:  56822.55825618194\n",
            "Y0:  0.5599999999999997  loss:  63326.62531146176\n",
            "Y0:  0.5699999999999997  loss:  68957.99965353492\n",
            "Y0:  0.5799999999999997  loss:  73964.71607298528\n",
            "Y0:  0.5899999999999997  loss:  78477.42636221496\n",
            "Y0:  0.5999999999999998  loss:  82770.36068027637\n",
            "Y0:  0.6099999999999998  loss:  86844.71555306193\n",
            "Y0:  0.6199999999999998  loss:  90510.1010052519\n",
            "Y0:  0.6299999999999997  loss:  94104.5830144574\n",
            "Y0:  0.6399999999999997  loss:  97573.74553293726\n",
            "Y0:  0.6499999999999997  loss:  100381.23111793069\n",
            "Y0:  0.6599999999999997  loss:  103541.30843004471\n",
            "Y0:  0.6699999999999997  loss:  106738.80947411201\n",
            "Y0:  0.6799999999999997  loss:  109611.22959993311\n",
            "Y0:  0.6899999999999997  loss:  112200.29022745565\n",
            "Y0:  0.6999999999999996  loss:  115515.76690960106\n",
            "Y0:  0.7099999999999996  loss:  118630.75545827895\n",
            "Y0:  0.7199999999999996  loss:  120813.68763206337\n",
            "Y0:  0.7299999999999996  loss:  123073.87679999713\n",
            "Y0:  0.7399999999999997  loss:  125041.87571992092\n",
            "Y0:  0.7499999999999997  loss:  126983.40325688018\n",
            "Y0:  0.7599999999999997  loss:  128708.97501374705\n",
            "Y0:  0.7699999999999997  loss:  130310.87891370259\n",
            "Y0:  0.7799999999999997  loss:  131792.9995677816\n",
            "Y0:  0.7899999999999996  loss:  133161.3815150029\n",
            "Y0:  0.7999999999999996  loss:  134352.93979833453\n",
            "Y0:  0.8099999999999996  loss:  135403.59817412755\n",
            "Y0:  0.8199999999999996  loss:  136450.41304265265\n",
            "Y0:  0.8299999999999996  loss:  137440.28061090127\n",
            "Y0:  0.8399999999999996  loss:  138343.11020007235\n",
            "Y0:  0.8499999999999996  loss:  139262.33299972082\n",
            "Y0:  0.8599999999999995  loss:  140309.03943743225\n",
            "Y0:  0.8699999999999996  loss:  141090.75570355367\n",
            "Y0:  0.8799999999999996  loss:  141712.59863439525\n",
            "Y0:  0.8899999999999996  loss:  142332.22591132237\n",
            "Y0:  0.8999999999999996  loss:  142742.3966815943\n",
            "Y0:  0.9099999999999996  loss:  143066.52686051966\n",
            "Y0:  0.9199999999999996  loss:  143343.62820143736\n",
            "Y0:  0.9299999999999996  loss:  143581.43822997488\n",
            "Y0:  0.9399999999999996  loss:  143785.03139231968\n",
            "Y0:  0.9499999999999995  loss:  143960.82544784492\n",
            "Y0:  0.9599999999999995  loss:  144114.43126034393\n",
            "Y0:  0.9699999999999995  loss:  144250.85472325102\n",
            "Y0:  0.9799999999999995  loss:  144375.51214312037\n",
            "Y0:  0.9899999999999995  loss:  144493.36750856947\n",
            "Y0:  0.9999999999999996  loss:  144602.27024824423\n",
            "Y0:  1.0099999999999996  loss:  144661.41660839293\n",
            "Y0:  1.0199999999999996  loss:  144673.25294936047\n",
            "Y0:  1.0299999999999996  loss:  144781.0951669567\n",
            "Y0:  1.0399999999999996  loss:  144907.17634855484\n",
            "Y0:  1.0499999999999996  loss:  145056.04745775682\n",
            "Y0:  1.0599999999999996  loss:  145230.44209751431\n",
            "Y0:  1.0699999999999996  loss:  145424.28754151778\n",
            "Y0:  1.0799999999999996  loss:  145662.0983605953\n",
            "Y0:  1.0899999999999996  loss:  145567.69989525396\n"
          ],
          "name": "stdout"
        }
      ]
    },
    {
      "cell_type": "code",
      "metadata": {
        "colab": {
          "base_uri": "https://localhost:8080/",
          "height": 279
        },
        "id": "F4rFX-uny-aO",
        "outputId": "573982d4-7ee2-42a3-c583-5b8cc1de7e94"
      },
      "source": [
        "plt.plot(y0_tested ,loss_obtained)\n",
        "plt.ylabel('loss')\n",
        "plt.xlabel('Y0')\n",
        "plt.show()"
      ],
      "execution_count": 9,
      "outputs": [
        {
          "output_type": "display_data",
          "data": {
            "image/png": "[encoded data removed]",
            "text/plain": [
              "<Figure size 432x288 with 1 Axes>"
            ]
          },
          "metadata": {
            "tags": [],
            "needs_background": "light"
          }
        }
      ]
    },
    {
      "cell_type": "markdown",
      "metadata": {
        "id": "YBIPLyuO8y4w"
      },
      "source": [
        "The best value for Y0 is around 0.49. We do another search in order to find the best value to the precision of 1 millimeter"
      ]
    },
    {
      "cell_type": "code",
      "metadata": {
        "colab": {
          "base_uri": "https://localhost:8080/"
        },
        "id": "_0GT1lCDwDIu",
        "outputId": "90fd5445-4a14-400d-f8fe-b88dd4ab14be"
      },
      "source": [
        "#MINIMUM 0.494\n",
        "loss_obtained = []\n",
        "y0_tested = []\n",
        "for y0 in np.arange(0.48,0.5,0.001):\n",
        "  prediction = give_prediction(y0,40)\n",
        "  total_loss = 0\n",
        "  for t in range(14000):\n",
        "    roll_x, pitch_y, yaw_z = values_from_quaternion(scout_odom['pose.pose.orientation.x'][t], scout_odom['pose.pose.orientation.y'][t], scout_odom['pose.pose.orientation.z'][t], scout_odom['pose.pose.orientation.w'][t])\n",
        "    #print('x: ',scout_odom['pose.pose.position.x'][t], ' versus ', prediction[t][0])\n",
        "    #print('y: ',scout_odom['pose.pose.position.y'][t], ' versus ', prediction[t][1])\n",
        "    #print('o: ',yaw_z, ' versus ', prediction[t][2])\n",
        "    total_loss += loss(prediction[t][0],prediction[t][1],prediction[t][2], scout_odom['pose.pose.position.x'][t], scout_odom['pose.pose.position.y'][t], yaw_z)\n",
        "    #print(prediction[t])\n",
        "  print('Y0: ', y0, ' loss: ', total_loss)\n",
        "  loss_obtained.append(total_loss)\n",
        "  y0_tested.append(y0)"
      ],
      "execution_count": 10,
      "outputs": [
        {
          "output_type": "stream",
          "text": [
            "Y0:  0.48  loss:  16484.396533844614\n",
            "Y0:  0.481  loss:  15333.889588592694\n",
            "Y0:  0.482  loss:  14180.555326966041\n",
            "Y0:  0.483  loss:  12863.949504885479\n",
            "Y0:  0.484  loss:  11763.841564338078\n",
            "Y0:  0.485  loss:  10664.713368556979\n",
            "Y0:  0.486  loss:  9589.96101557596\n",
            "Y0:  0.487  loss:  8516.65355832451\n",
            "Y0:  0.488  loss:  7467.580638251553\n",
            "Y0:  0.489  loss:  6419.106097444145\n",
            "Y0:  0.49  loss:  5431.681358757165\n",
            "Y0:  0.491  loss:  4513.044683205193\n",
            "Y0:  0.492  loss:  3734.057147609682\n",
            "Y0:  0.493  loss:  3190.8158110379154\n",
            "Y0:  0.494  loss:  3165.518147631062\n",
            "Y0:  0.495  loss:  3566.1522498856084\n",
            "Y0:  0.496  loss:  4301.0253480978845\n",
            "Y0:  0.497  loss:  5127.22162154052\n",
            "Y0:  0.498  loss:  6068.379517404755\n",
            "Y0:  0.499  loss:  7070.966548623163\n",
            "Y0:  0.5  loss:  8468.973174640209\n"
          ],
          "name": "stdout"
        }
      ]
    },
    {
      "cell_type": "code",
      "metadata": {
        "colab": {
          "base_uri": "https://localhost:8080/",
          "height": 279
        },
        "id": "uOFCqyYmwVDv",
        "outputId": "3849b9f6-8e53-4ded-def4-421f7bf140f0"
      },
      "source": [
        "plt.plot(y0_tested ,loss_obtained)\n",
        "plt.ylabel('loss')\n",
        "plt.xlabel('Y0')\n",
        "plt.show()"
      ],
      "execution_count": 11,
      "outputs": [
        {
          "output_type": "display_data",
          "data": {
            "image/png": "[encoded data removed]",
            "text/plain": [
              "<Figure size 432x288 with 1 Axes>"
            ]
          },
          "metadata": {
            "tags": [],
            "needs_background": "light"
          }
        }
      ]
    },
    {
      "cell_type": "markdown",
      "metadata": {
        "id": "NgrYoZC99LWb"
      },
      "source": [
        "Best value for Y0 is 0.494"
      ]
    },
    {
      "cell_type": "markdown",
      "metadata": {
        "id": "lu4edAmj5hzA"
      },
      "source": [
        "###Gear ratio estimation\n",
        "Now that we have found a good Y0 value (0.494), let's test different gear ratios to find the best one"
      ]
    },
    {
      "cell_type": "code",
      "metadata": {
        "id": "OnbojG3Z5AAX",
        "colab": {
          "base_uri": "https://localhost:8080/"
        },
        "outputId": "e751532b-0132-487f-ba72-3392eaa1fb50"
      },
      "source": [
        "loss_obtained = []\n",
        "GEAR_RATIO_tested = []\n",
        "for GEAR_RATIO in np.arange(30,50,1):\n",
        "  prediction = give_prediction(0.494, GEAR_RATIO)\n",
        "  total_loss = 0\n",
        "  #in 14000 we are sure not to find any error between scout_odom and speeds\n",
        "  for t in range(14000):\n",
        "    roll_x, pitch_y, yaw_z = values_from_quaternion(scout_odom['pose.pose.orientation.x'][t], scout_odom['pose.pose.orientation.y'][t], scout_odom['pose.pose.orientation.z'][t], scout_odom['pose.pose.orientation.w'][t])\n",
        "    #print('x: ',scout_odom['pose.pose.position.x'][t], ' versus ', prediction[t][0])\n",
        "    #print('y: ',scout_odom['pose.pose.position.y'][t], ' versus ', prediction[t][1])\n",
        "    #print('o: ',yaw_z, ' versus ', prediction[t][2])\n",
        "    total_loss += loss(prediction[t][0],prediction[t][1],prediction[t][2], scout_odom['pose.pose.position.x'][t], scout_odom['pose.pose.position.y'][t], yaw_z)\n",
        "    #print(prediction[t])\n",
        "  print('gear ration: ', GEAR_RATIO, ' loss: ', total_loss)\n",
        "  loss_obtained.append(total_loss)\n",
        "  GEAR_RATIO_tested.append(GEAR_RATIO)"
      ],
      "execution_count": 12,
      "outputs": [
        {
          "output_type": "stream",
          "text": [
            "gear ration:  30  loss:  104021.29443474716\n",
            "gear ration:  31  loss:  95872.86398947648\n",
            "gear ration:  32  loss:  90686.36728166416\n",
            "gear ration:  33  loss:  86215.94612587607\n",
            "gear ration:  34  loss:  78497.44655719574\n",
            "gear ration:  35  loss:  68592.23979487461\n",
            "gear ration:  36  loss:  56515.64595781665\n",
            "gear ration:  37  loss:  43157.38758635414\n",
            "gear ration:  38  loss:  28320.990518057843\n",
            "gear ration:  39  loss:  14207.174897200806\n",
            "gear ration:  40  loss:  3165.518147631062\n",
            "gear ration:  41  loss:  16500.201757981256\n",
            "gear ration:  42  loss:  29437.16847475751\n",
            "gear ration:  43  loss:  40628.32235337048\n",
            "gear ration:  44  loss:  49193.65868982357\n",
            "gear ration:  45  loss:  57693.122956700034\n",
            "gear ration:  46  loss:  63605.833088785286\n",
            "gear ration:  47  loss:  68466.2162784735\n",
            "gear ration:  48  loss:  72472.31620681469\n",
            "gear ration:  49  loss:  76093.84023067234\n"
          ],
          "name": "stdout"
        }
      ]
    },
    {
      "cell_type": "code",
      "metadata": {
        "id": "o0rygutm6NPa",
        "colab": {
          "base_uri": "https://localhost:8080/",
          "height": 279
        },
        "outputId": "484055a8-a02a-4c94-e4e9-9c425efd8ec2"
      },
      "source": [
        "plt.plot(GEAR_RATIO_tested ,loss_obtained)\n",
        "plt.ylabel('loss')\n",
        "plt.xlabel('gear ratio')\n",
        "plt.show()"
      ],
      "execution_count": 13,
      "outputs": [
        {
          "output_type": "display_data",
          "data": {
            "image/png": "[encoded data removed]",
            "text/plain": [
              "<Figure size 432x288 with 1 Axes>"
            ]
          },
          "metadata": {
            "tags": [],
            "needs_background": "light"
          }
        }
      ]
    },
    {
      "cell_type": "markdown",
      "metadata": {
        "id": "t7qJZw606t7m"
      },
      "source": [
        "It's quite clear that the best gear ratio is 40 for Y0 = 0.494, since there is a clear minimum at 40"
      ]
    },
    {
      "cell_type": "markdown",
      "metadata": {
        "id": "-7ZNnMu_k4Gs"
      },
      "source": [
        "To have more evidence that the gear ratio is 40, let's try using another value for Y0, like 0.49"
      ]
    },
    {
      "cell_type": "code",
      "metadata": {
        "id": "vhlfoszilNI5",
        "colab": {
          "base_uri": "https://localhost:8080/"
        },
        "outputId": "1ec930ce-40d7-4d4d-e1bb-b2936e1460e9"
      },
      "source": [
        "loss_obtained = []\n",
        "GEAR_RATIO_tested = []\n",
        "for GEAR_RATIO in np.arange(30,50,1):\n",
        "  prediction = give_prediction(0.49, GEAR_RATIO)\n",
        "  total_loss = 0\n",
        "  #in 14000 we are sure not to find any error between scout_odom and speeds\n",
        "  for t in range(14000):\n",
        "    roll_x, pitch_y, yaw_z = values_from_quaternion(scout_odom['pose.pose.orientation.x'][t], scout_odom['pose.pose.orientation.y'][t], scout_odom['pose.pose.orientation.z'][t], scout_odom['pose.pose.orientation.w'][t])\n",
        "    #print('x: ',scout_odom['pose.pose.position.x'][t], ' versus ', prediction[t][0])\n",
        "    #print('y: ',scout_odom['pose.pose.position.y'][t], ' versus ', prediction[t][1])\n",
        "    #print('o: ',yaw_z, ' versus ', prediction[t][2])\n",
        "    total_loss += loss(prediction[t][0],prediction[t][1],prediction[t][2], scout_odom['pose.pose.position.x'][t], scout_odom['pose.pose.position.y'][t], yaw_z)\n",
        "    #print(prediction[t])\n",
        "  print('gear ratio: ', GEAR_RATIO, ' loss: ', total_loss)\n",
        "  loss_obtained.append(total_loss)\n",
        "  GEAR_RATIO_tested.append(GEAR_RATIO)"
      ],
      "execution_count": 14,
      "outputs": [
        {
          "output_type": "stream",
          "text": [
            "gear ratio:  30  loss:  105393.32813421628\n",
            "gear ratio:  31  loss:  97317.89845008112\n",
            "gear ratio:  32  loss:  90708.87563403472\n",
            "gear ratio:  33  loss:  87187.05682246177\n",
            "gear ratio:  34  loss:  81023.41384090597\n",
            "gear ratio:  35  loss:  71490.5703503435\n",
            "gear ratio:  36  loss:  60009.907973610454\n",
            "gear ratio:  37  loss:  47152.96009702991\n",
            "gear ratio:  38  loss:  32538.648567585118\n",
            "gear ratio:  39  loss:  18814.369577607784\n",
            "gear ratio:  40  loss:  5431.681358757165\n",
            "gear ratio:  41  loss:  11216.769121915946\n",
            "gear ratio:  42  loss:  25169.80236373727\n",
            "gear ratio:  43  loss:  36683.81760724477\n",
            "gear ratio:  44  loss:  46356.90521395475\n",
            "gear ratio:  45  loss:  54741.69395193391\n",
            "gear ratio:  46  loss:  61257.219367836275\n",
            "gear ratio:  47  loss:  66568.22838589162\n",
            "gear ratio:  48  loss:  70784.0229888823\n",
            "gear ratio:  49  loss:  74469.47247852481\n"
          ],
          "name": "stdout"
        }
      ]
    },
    {
      "cell_type": "code",
      "metadata": {
        "id": "UFjWd4umldRR",
        "colab": {
          "base_uri": "https://localhost:8080/",
          "height": 279
        },
        "outputId": "84bd19d3-5151-4cf8-b443-32ce0d1c7ced"
      },
      "source": [
        "plt.plot(GEAR_RATIO_tested ,loss_obtained)\n",
        "plt.ylabel('loss')\n",
        "plt.xlabel('gear ratio')\n",
        "plt.show()"
      ],
      "execution_count": 15,
      "outputs": [
        {
          "output_type": "display_data",
          "data": {
            "image/png": "[encoded data removed]",
            "text/plain": [
              "<Figure size 432x288 with 1 Axes>"
            ]
          },
          "metadata": {
            "tags": [],
            "needs_background": "light"
          }
        }
      ]
    },
    {
      "cell_type": "markdown",
      "metadata": {
        "id": "TSq_4G-9p2Sa"
      },
      "source": [
        "Again, the best gear ratio is 40"
      ]
    },
    {
      "cell_type": "markdown",
      "metadata": {
        "id": "50El-yErrg1K"
      },
      "source": [
        "## 3) Estimation from ground pose"
      ]
    },
    {
      "cell_type": "markdown",
      "metadata": {
        "id": "JJczlWi59cLv"
      },
      "source": [
        "We proceed in the same way with the ground pose\n",
        "\n",
        "Even if gt_pose has a different starting position and orientation, this will not influence the search of the best value of the apparent baseline, since the bias will be applied to all the tests. \n"
      ]
    },
    {
      "cell_type": "markdown",
      "metadata": {
        "id": "t_nPCTGJ-Bk2"
      },
      "source": [
        "###Y0 estimation"
      ]
    },
    {
      "cell_type": "code",
      "metadata": {
        "id": "m2p0jhcuplny",
        "colab": {
          "base_uri": "https://localhost:8080/",
          "height": 456
        },
        "outputId": "c27159ec-b40d-452a-c741-995935e306c3"
      },
      "source": [
        "gt_pose"
      ],
      "execution_count": 16,
      "outputs": [
        {
          "output_type": "execute_result",
          "data": {
            "text/html": [
              "<div>\n",
              "<style scoped>\n",
              "    .dataframe tbody tr th:only-of-type {\n",
              "        vertical-align: middle;\n",
              "    }\n",
              "\n",
              "    .dataframe tbody tr th {\n",
              "        vertical-align: top;\n",
              "    }\n",
              "\n",
              "    .dataframe thead th {\n",
              "        text-align: right;\n",
              "    }\n",
              "</style>\n",
              "<table border=\"1\" class=\"dataframe\">\n",
              "  <thead>\n",
              "    <tr style=\"text-align: right;\">\n",
              "      <th></th>\n",
              "      <th>Unnamed: 0</th>\n",
              "      <th>Time</th>\n",
              "      <th>header.seq</th>\n",
              "      <th>header.stamp.secs</th>\n",
              "      <th>header.stamp.nsecs</th>\n",
              "      <th>header.frame_id</th>\n",
              "      <th>pose.position.x</th>\n",
              "      <th>pose.position.y</th>\n",
              "      <th>pose.position.z</th>\n",
              "      <th>pose.orientation.x</th>\n",
              "      <th>pose.orientation.y</th>\n",
              "      <th>pose.orientation.z</th>\n",
              "      <th>pose.orientation.w</th>\n",
              "    </tr>\n",
              "  </thead>\n",
              "  <tbody>\n",
              "    <tr>\n",
              "      <th>0</th>\n",
              "      <td>0</td>\n",
              "      <td>1.617792e+09</td>\n",
              "      <td>45744</td>\n",
              "      <td>1617791999</td>\n",
              "      <td>222941307</td>\n",
              "      <td>world</td>\n",
              "      <td>-0.832142</td>\n",
              "      <td>0.426362</td>\n",
              "      <td>0.324720</td>\n",
              "      <td>0.022165</td>\n",
              "      <td>-0.010446</td>\n",
              "      <td>-0.533567</td>\n",
              "      <td>0.845403</td>\n",
              "    </tr>\n",
              "    <tr>\n",
              "      <th>1</th>\n",
              "      <td>1</td>\n",
              "      <td>1.617792e+09</td>\n",
              "      <td>45745</td>\n",
              "      <td>1617791999</td>\n",
              "      <td>223665997</td>\n",
              "      <td>world</td>\n",
              "      <td>-0.832142</td>\n",
              "      <td>0.426362</td>\n",
              "      <td>0.324720</td>\n",
              "      <td>0.022165</td>\n",
              "      <td>-0.010446</td>\n",
              "      <td>-0.533567</td>\n",
              "      <td>0.845403</td>\n",
              "    </tr>\n",
              "    <tr>\n",
              "      <th>2</th>\n",
              "      <td>2</td>\n",
              "      <td>1.617792e+09</td>\n",
              "      <td>45746</td>\n",
              "      <td>1617791999</td>\n",
              "      <td>226267032</td>\n",
              "      <td>world</td>\n",
              "      <td>-0.832142</td>\n",
              "      <td>0.426362</td>\n",
              "      <td>0.324720</td>\n",
              "      <td>0.022165</td>\n",
              "      <td>-0.010446</td>\n",
              "      <td>-0.533567</td>\n",
              "      <td>0.845403</td>\n",
              "    </tr>\n",
              "    <tr>\n",
              "      <th>3</th>\n",
              "      <td>3</td>\n",
              "      <td>1.617792e+09</td>\n",
              "      <td>45747</td>\n",
              "      <td>1617791999</td>\n",
              "      <td>230556536</td>\n",
              "      <td>world</td>\n",
              "      <td>-0.832142</td>\n",
              "      <td>0.426362</td>\n",
              "      <td>0.324720</td>\n",
              "      <td>0.022165</td>\n",
              "      <td>-0.010446</td>\n",
              "      <td>-0.533567</td>\n",
              "      <td>0.845403</td>\n",
              "    </tr>\n",
              "    <tr>\n",
              "      <th>4</th>\n",
              "      <td>4</td>\n",
              "      <td>1.617792e+09</td>\n",
              "      <td>45748</td>\n",
              "      <td>1617791999</td>\n",
              "      <td>233012675</td>\n",
              "      <td>world</td>\n",
              "      <td>-0.832142</td>\n",
              "      <td>0.426362</td>\n",
              "      <td>0.324720</td>\n",
              "      <td>0.022165</td>\n",
              "      <td>-0.010446</td>\n",
              "      <td>-0.533567</td>\n",
              "      <td>0.845403</td>\n",
              "    </tr>\n",
              "    <tr>\n",
              "      <th>...</th>\n",
              "      <td>...</td>\n",
              "      <td>...</td>\n",
              "      <td>...</td>\n",
              "      <td>...</td>\n",
              "      <td>...</td>\n",
              "      <td>...</td>\n",
              "      <td>...</td>\n",
              "      <td>...</td>\n",
              "      <td>...</td>\n",
              "      <td>...</td>\n",
              "      <td>...</td>\n",
              "      <td>...</td>\n",
              "      <td>...</td>\n",
              "    </tr>\n",
              "    <tr>\n",
              "      <th>18004</th>\n",
              "      <td>18004</td>\n",
              "      <td>1.617792e+09</td>\n",
              "      <td>63748</td>\n",
              "      <td>1617792281</td>\n",
              "      <td>545081329</td>\n",
              "      <td>world</td>\n",
              "      <td>-0.852457</td>\n",
              "      <td>0.067624</td>\n",
              "      <td>0.322794</td>\n",
              "      <td>0.035322</td>\n",
              "      <td>0.006182</td>\n",
              "      <td>-0.583417</td>\n",
              "      <td>0.811381</td>\n",
              "    </tr>\n",
              "    <tr>\n",
              "      <th>18005</th>\n",
              "      <td>18005</td>\n",
              "      <td>1.617792e+09</td>\n",
              "      <td>63749</td>\n",
              "      <td>1617792281</td>\n",
              "      <td>629585802</td>\n",
              "      <td>world</td>\n",
              "      <td>-0.852457</td>\n",
              "      <td>0.067624</td>\n",
              "      <td>0.322794</td>\n",
              "      <td>0.035322</td>\n",
              "      <td>0.006182</td>\n",
              "      <td>-0.583417</td>\n",
              "      <td>0.811381</td>\n",
              "    </tr>\n",
              "    <tr>\n",
              "      <th>18006</th>\n",
              "      <td>18006</td>\n",
              "      <td>1.617792e+09</td>\n",
              "      <td>63750</td>\n",
              "      <td>1617792281</td>\n",
              "      <td>630320373</td>\n",
              "      <td>world</td>\n",
              "      <td>-0.852457</td>\n",
              "      <td>0.067624</td>\n",
              "      <td>0.322794</td>\n",
              "      <td>0.035322</td>\n",
              "      <td>0.006182</td>\n",
              "      <td>-0.583417</td>\n",
              "      <td>0.811381</td>\n",
              "    </tr>\n",
              "    <tr>\n",
              "      <th>18007</th>\n",
              "      <td>18007</td>\n",
              "      <td>1.617792e+09</td>\n",
              "      <td>63751</td>\n",
              "      <td>1617792281</td>\n",
              "      <td>636034583</td>\n",
              "      <td>world</td>\n",
              "      <td>-0.852457</td>\n",
              "      <td>0.067624</td>\n",
              "      <td>0.322794</td>\n",
              "      <td>0.035322</td>\n",
              "      <td>0.006182</td>\n",
              "      <td>-0.583417</td>\n",
              "      <td>0.811381</td>\n",
              "    </tr>\n",
              "    <tr>\n",
              "      <th>18008</th>\n",
              "      <td>18008</td>\n",
              "      <td>1.617792e+09</td>\n",
              "      <td>63752</td>\n",
              "      <td>1617792281</td>\n",
              "      <td>639660086</td>\n",
              "      <td>world</td>\n",
              "      <td>-0.852457</td>\n",
              "      <td>0.067624</td>\n",
              "      <td>0.322794</td>\n",
              "      <td>0.035322</td>\n",
              "      <td>0.006182</td>\n",
              "      <td>-0.583417</td>\n",
              "      <td>0.811381</td>\n",
              "    </tr>\n",
              "  </tbody>\n",
              "</table>\n",
              "<p>18009 rows × 13 columns</p>\n",
              "</div>"
            ],
            "text/plain": [
              "       Unnamed: 0          Time  ...  pose.orientation.z  pose.orientation.w\n",
              "0               0  1.617792e+09  ...           -0.533567            0.845403\n",
              "1               1  1.617792e+09  ...           -0.533567            0.845403\n",
              "2               2  1.617792e+09  ...           -0.533567            0.845403\n",
              "3               3  1.617792e+09  ...           -0.533567            0.845403\n",
              "4               4  1.617792e+09  ...           -0.533567            0.845403\n",
              "...           ...           ...  ...                 ...                 ...\n",
              "18004       18004  1.617792e+09  ...           -0.583417            0.811381\n",
              "18005       18005  1.617792e+09  ...           -0.583417            0.811381\n",
              "18006       18006  1.617792e+09  ...           -0.583417            0.811381\n",
              "18007       18007  1.617792e+09  ...           -0.583417            0.811381\n",
              "18008       18008  1.617792e+09  ...           -0.583417            0.811381\n",
              "\n",
              "[18009 rows x 13 columns]"
            ]
          },
          "metadata": {
            "tags": []
          },
          "execution_count": 16
        }
      ]
    },
    {
      "cell_type": "code",
      "metadata": {
        "id": "4gis1jubqUSy",
        "colab": {
          "base_uri": "https://localhost:8080/"
        },
        "outputId": "8dc81817-971e-45d8-ef1c-a5a4d2cc7c1b"
      },
      "source": [
        "loss_obtained = []\n",
        "y0_tested = []\n",
        "for y0 in np.arange(0.1,1.1,0.01):\n",
        "#for y0 in [0.49]:\n",
        "  prediction = give_prediction(y0,40)\n",
        "  total_loss = 0\n",
        "  for t in range(14000):\n",
        "    roll_x, pitch_y, yaw_z = values_from_quaternion(gt_pose['pose.orientation.x'][t], gt_pose['pose.orientation.y'][t], gt_pose['pose.orientation.z'][t], gt_pose['pose.orientation.w'][t])\n",
        "    #print('x: ',gt_pose['pose.position.x'][t], ' versus ', prediction[t][0])\n",
        "    #print('y: ',gt_pose['pose.position.y'][t], ' versus ', prediction[t][1])\n",
        "    #print('o: ',yaw_z, ' versus ', prediction[t][2])\n",
        "    total_loss += loss(prediction[t][0],prediction[t][1],prediction[t][2], gt_pose['pose.position.x'][t], gt_pose['pose.position.y'][t], yaw_z)\n",
        "    #print(prediction[t])\n",
        "  print('Y0: ', y0, ' loss: ', total_loss)\n",
        "  loss_obtained.append(total_loss)\n",
        "  y0_tested.append(y0)"
      ],
      "execution_count": 17,
      "outputs": [
        {
          "output_type": "stream",
          "text": [
            "Y0:  0.1  loss:  82566.96229940889\n",
            "Y0:  0.11  loss:  106009.26950880152\n",
            "Y0:  0.12  loss:  262780.50109752425\n",
            "Y0:  0.13  loss:  84489.12029947202\n",
            "Y0:  0.13999999999999999  loss:  144056.8149768271\n",
            "Y0:  0.14999999999999997  loss:  95368.65593428559\n",
            "Y0:  0.15999999999999998  loss:  92459.92385148763\n",
            "Y0:  0.16999999999999998  loss:  65748.31576378002\n",
            "Y0:  0.17999999999999997  loss:  102378.42380636364\n",
            "Y0:  0.18999999999999995  loss:  87148.50257858775\n",
            "Y0:  0.19999999999999996  loss:  96084.68739749923\n",
            "Y0:  0.20999999999999996  loss:  185058.3040755212\n",
            "Y0:  0.21999999999999995  loss:  282084.2407679461\n",
            "Y0:  0.22999999999999995  loss:  332658.5621694477\n",
            "Y0:  0.23999999999999994  loss:  323262.8307933797\n",
            "Y0:  0.24999999999999992  loss:  270392.5851984083\n",
            "Y0:  0.2599999999999999  loss:  201090.76808383936\n",
            "Y0:  0.2699999999999999  loss:  140646.76469677972\n",
            "Y0:  0.2799999999999999  loss:  112624.81481044983\n",
            "Y0:  0.2899999999999999  loss:  99843.03985313722\n",
            "Y0:  0.29999999999999993  loss:  92107.48238514787\n",
            "Y0:  0.30999999999999994  loss:  88774.98851416635\n",
            "Y0:  0.3199999999999999  loss:  88692.06391010752\n",
            "Y0:  0.32999999999999985  loss:  88686.22986433383\n",
            "Y0:  0.33999999999999986  loss:  86061.66251113787\n",
            "Y0:  0.34999999999999987  loss:  80393.46139374339\n",
            "Y0:  0.3599999999999999  loss:  77236.48770258333\n",
            "Y0:  0.3699999999999999  loss:  75662.55351787907\n",
            "Y0:  0.3799999999999999  loss:  77675.01763422693\n",
            "Y0:  0.3899999999999999  loss:  79029.51391871384\n",
            "Y0:  0.3999999999999998  loss:  79249.76985244382\n",
            "Y0:  0.4099999999999998  loss:  78376.98659252086\n",
            "Y0:  0.4199999999999998  loss:  76805.68521795844\n",
            "Y0:  0.4299999999999998  loss:  74189.20301345178\n",
            "Y0:  0.43999999999999984  loss:  71619.45831649628\n",
            "Y0:  0.44999999999999984  loss:  68915.2560026722\n",
            "Y0:  0.45999999999999985  loss:  68458.34229018427\n",
            "Y0:  0.46999999999999986  loss:  66606.25581725151\n",
            "Y0:  0.47999999999999976  loss:  65820.78616156465\n",
            "Y0:  0.48999999999999977  loss:  65503.191505848205\n",
            "Y0:  0.4999999999999998  loss:  66673.8714056275\n",
            "Y0:  0.5099999999999998  loss:  68143.26369416642\n",
            "Y0:  0.5199999999999998  loss:  70200.3099322032\n",
            "Y0:  0.5299999999999998  loss:  75560.75942820849\n",
            "Y0:  0.5399999999999998  loss:  79719.41984531145\n",
            "Y0:  0.5499999999999998  loss:  84214.97579517616\n",
            "Y0:  0.5599999999999997  loss:  87691.97512926937\n",
            "Y0:  0.5699999999999997  loss:  90154.52629130521\n",
            "Y0:  0.5799999999999997  loss:  92453.72773121836\n",
            "Y0:  0.5899999999999997  loss:  94691.21683471017\n",
            "Y0:  0.5999999999999998  loss:  97042.83549024479\n",
            "Y0:  0.6099999999999998  loss:  99053.72770720962\n",
            "Y0:  0.6199999999999998  loss:  100574.05922324854\n",
            "Y0:  0.6299999999999997  loss:  101829.3552653862\n",
            "Y0:  0.6399999999999997  loss:  102898.8330014088\n",
            "Y0:  0.6499999999999997  loss:  103581.54471723129\n",
            "Y0:  0.6599999999999997  loss:  104314.33557130359\n",
            "Y0:  0.6699999999999997  loss:  104933.85145436887\n",
            "Y0:  0.6799999999999997  loss:  105422.52866586327\n",
            "Y0:  0.6899999999999997  loss:  105767.60747589379\n",
            "Y0:  0.6999999999999996  loss:  105435.70491512731\n",
            "Y0:  0.7099999999999996  loss:  105547.59721353352\n",
            "Y0:  0.7199999999999996  loss:  105531.77802939077\n",
            "Y0:  0.7299999999999996  loss:  105681.35963946478\n",
            "Y0:  0.7399999999999997  loss:  105858.87484624512\n",
            "Y0:  0.7499999999999997  loss:  105907.81430390142\n",
            "Y0:  0.7599999999999997  loss:  105985.67542867523\n",
            "Y0:  0.7699999999999997  loss:  106101.76055897035\n",
            "Y0:  0.7799999999999997  loss:  106236.89284502971\n",
            "Y0:  0.7899999999999996  loss:  106435.0329690021\n",
            "Y0:  0.7999999999999996  loss:  106614.96250478263\n",
            "Y0:  0.8099999999999996  loss:  106826.85285163014\n",
            "Y0:  0.8199999999999996  loss:  107242.87743222424\n",
            "Y0:  0.8299999999999996  loss:  107738.41004585341\n",
            "Y0:  0.8399999999999996  loss:  108311.12785691768\n",
            "Y0:  0.8499999999999996  loss:  108936.33808653112\n",
            "Y0:  0.8599999999999995  loss:  109708.9953131445\n",
            "Y0:  0.8699999999999996  loss:  110400.74617778813\n",
            "Y0:  0.8799999999999996  loss:  111433.86676537646\n",
            "Y0:  0.8899999999999996  loss:  112656.87337352958\n",
            "Y0:  0.8999999999999996  loss:  113770.4409826661\n",
            "Y0:  0.9099999999999996  loss:  114926.32232824745\n",
            "Y0:  0.9199999999999996  loss:  116183.31877857957\n",
            "Y0:  0.9299999999999996  loss:  117546.95206160967\n",
            "Y0:  0.9399999999999996  loss:  119007.83876037263\n",
            "Y0:  0.9499999999999995  loss:  120566.03563947948\n",
            "Y0:  0.9599999999999995  loss:  122213.02078632277\n",
            "Y0:  0.9699999999999995  loss:  123927.49447805715\n",
            "Y0:  0.9799999999999995  loss:  125699.21717525023\n",
            "Y0:  0.9899999999999995  loss:  127514.84900008576\n",
            "Y0:  0.9999999999999996  loss:  129432.58463531475\n",
            "Y0:  1.0099999999999996  loss:  131355.3610853309\n",
            "Y0:  1.0199999999999996  loss:  133329.60010068648\n",
            "Y0:  1.0299999999999996  loss:  135194.43861280967\n",
            "Y0:  1.0399999999999996  loss:  137068.5091259628\n",
            "Y0:  1.0499999999999996  loss:  138948.00277844924\n",
            "Y0:  1.0599999999999996  loss:  140831.71663957852\n",
            "Y0:  1.0699999999999996  loss:  142789.54993125855\n",
            "Y0:  1.0799999999999996  loss:  144679.17706872534\n",
            "Y0:  1.0899999999999996  loss:  146388.9467190865\n"
          ],
          "name": "stdout"
        }
      ]
    },
    {
      "cell_type": "code",
      "metadata": {
        "id": "576acGkCrLCU",
        "colab": {
          "base_uri": "https://localhost:8080/",
          "height": 279
        },
        "outputId": "12161a0a-813f-48cb-95b0-c4d945950812"
      },
      "source": [
        "plt.plot(y0_tested, loss_obtained)\n",
        "plt.ylabel('loss')\n",
        "plt.xlabel('Y0')\n",
        "plt.show()"
      ],
      "execution_count": 18,
      "outputs": [
        {
          "output_type": "display_data",
          "data": {
            "image/png": "[encoded data removed]",
            "text/plain": [
              "<Figure size 432x288 with 1 Axes>"
            ]
          },
          "metadata": {
            "tags": [],
            "needs_background": "light"
          }
        }
      ]
    },
    {
      "cell_type": "markdown",
      "metadata": {
        "id": "mMP2A41p_aN0"
      },
      "source": [
        "Best value of Y0 is again around 0.49. We do a search with the precision of 1 millimeter"
      ]
    },
    {
      "cell_type": "code",
      "metadata": {
        "id": "ShsMvzPeyMey",
        "colab": {
          "base_uri": "https://localhost:8080/"
        },
        "outputId": "6bf76add-0a83-4b29-b9da-3f7afb2f63fb"
      },
      "source": [
        "loss_obtained = []\n",
        "y0_tested = []\n",
        "for y0 in np.arange(0.48,0.50,0.001):\n",
        "#for y0 in [0.49]:\n",
        "  prediction = give_prediction(y0,40)\n",
        "  total_loss = 0\n",
        "  for t in range(14000):\n",
        "    roll_x, pitch_y, yaw_z = values_from_quaternion(gt_pose['pose.orientation.x'][t], gt_pose['pose.orientation.y'][t], gt_pose['pose.orientation.z'][t], gt_pose['pose.orientation.w'][t])\n",
        "    #print('x: ',gt_pose['pose.position.x'][t], ' versus ', prediction[t][0])\n",
        "    #print('y: ',gt_pose['pose.position.y'][t], ' versus ', prediction[t][1])\n",
        "    #print('o: ',yaw_z, ' versus ', prediction[t][2])\n",
        "    total_loss += loss(prediction[t][0],prediction[t][1],prediction[t][2], gt_pose['pose.position.x'][t], gt_pose['pose.position.y'][t], yaw_z)\n",
        "    #print(prediction[t])\n",
        "  print('Y0: ', y0, ' loss: ', total_loss)\n",
        "  loss_obtained.append(total_loss)\n",
        "  y0_tested.append(y0)"
      ],
      "execution_count": 19,
      "outputs": [
        {
          "output_type": "stream",
          "text": [
            "Y0:  0.48  loss:  65820.78616156465\n",
            "Y0:  0.481  loss:  65752.56911292554\n",
            "Y0:  0.482  loss:  65679.74771605889\n",
            "Y0:  0.483  loss:  65496.50190025396\n",
            "Y0:  0.484  loss:  65476.290105681015\n",
            "Y0:  0.485  loss:  65464.96252790483\n",
            "Y0:  0.486  loss:  65457.35031151199\n",
            "Y0:  0.487  loss:  65454.83695213535\n",
            "Y0:  0.488  loss:  65464.19051715464\n",
            "Y0:  0.489  loss:  65477.87603014625\n",
            "Y0:  0.49  loss:  65503.19150584833\n",
            "Y0:  0.491  loss:  65541.85658482029\n",
            "Y0:  0.492  loss:  65581.16262542247\n",
            "Y0:  0.493  loss:  65636.96977347376\n",
            "Y0:  0.494  loss:  65693.99742432826\n",
            "Y0:  0.495  loss:  65777.29654760043\n",
            "Y0:  0.496  loss:  65920.5861380781\n",
            "Y0:  0.497  loss:  66007.9631103925\n",
            "Y0:  0.498  loss:  66116.62585454385\n",
            "Y0:  0.499  loss:  66234.38469985525\n",
            "Y0:  0.5  loss:  66673.8714056275\n"
          ],
          "name": "stdout"
        }
      ]
    },
    {
      "cell_type": "code",
      "metadata": {
        "id": "jZC2TBiNyPhS",
        "colab": {
          "base_uri": "https://localhost:8080/",
          "height": 279
        },
        "outputId": "130bdae4-73ca-47fe-9958-c4a2de83778d"
      },
      "source": [
        "plt.plot(y0_tested, loss_obtained)\n",
        "plt.ylabel('loss')\n",
        "plt.xlabel('Y0')\n",
        "plt.show()"
      ],
      "execution_count": 20,
      "outputs": [
        {
          "output_type": "display_data",
          "data": {
            "image/png": "[encoded data removed]",
            "text/plain": [
              "<Figure size 432x288 with 1 Axes>"
            ]
          },
          "metadata": {
            "tags": [],
            "needs_background": "light"
          }
        }
      ]
    },
    {
      "cell_type": "markdown",
      "metadata": {
        "id": "h0cUdNxR_wsS"
      },
      "source": [
        "Best value is 0.493, and not 0.494 as in odom. Since the difference between the loss of 0,493 and 0.494 in the gt_pose search is very small, we decide to use 0.494, since gt_pose is more subjected to noise"
      ]
    },
    {
      "cell_type": "markdown",
      "metadata": {
        "id": "DoSMEWrSAlCQ"
      },
      "source": [
        "### Gear ratio estimation"
      ]
    },
    {
      "cell_type": "code",
      "metadata": {
        "id": "b9hXAkrkAqND",
        "colab": {
          "base_uri": "https://localhost:8080/"
        },
        "outputId": "6f30f782-9f36-4cfe-df33-7fba7ed9aa97"
      },
      "source": [
        "loss_obtained = []\n",
        "GEAR_tested = []\n",
        "for GEAR in np.arange(30,50,1):\n",
        "#for y0 in [0.49]:\n",
        "  prediction = give_prediction(0.494,GEAR)\n",
        "  total_loss = 0\n",
        "  for t in range(14000):\n",
        "    roll_x, pitch_y, yaw_z = values_from_quaternion(gt_pose['pose.orientation.x'][t], gt_pose['pose.orientation.y'][t], gt_pose['pose.orientation.z'][t], gt_pose['pose.orientation.w'][t])\n",
        "    #print('x: ',gt_pose['pose.position.x'][t], ' versus ', prediction[t][0])\n",
        "    #print('y: ',gt_pose['pose.position.y'][t], ' versus ', prediction[t][1])\n",
        "    #print('o: ',yaw_z, ' versus ', prediction[t][2])\n",
        "    total_loss += loss(prediction[t][0],prediction[t][1],prediction[t][2], gt_pose['pose.position.x'][t], gt_pose['pose.position.y'][t], yaw_z)\n",
        "    #print(prediction[t])\n",
        "  print('gear: ', GEAR, ' loss: ', total_loss)\n",
        "  loss_obtained.append(total_loss)\n",
        "  GEAR_tested.append(GEAR)"
      ],
      "execution_count": 21,
      "outputs": [
        {
          "output_type": "stream",
          "text": [
            "gear:  30  loss:  93134.73345840663\n",
            "gear:  31  loss:  89650.49043457379\n",
            "gear:  32  loss:  87731.91165384793\n",
            "gear:  33  loss:  85293.91653688083\n",
            "gear:  34  loss:  82116.77637002646\n",
            "gear:  35  loss:  77870.47504487222\n",
            "gear:  36  loss:  73833.97371652813\n",
            "gear:  37  loss:  70549.62709342451\n",
            "gear:  38  loss:  68330.57723249508\n",
            "gear:  39  loss:  66560.19404182528\n",
            "gear:  40  loss:  65693.99742432826\n",
            "gear:  41  loss:  66783.20581792036\n",
            "gear:  42  loss:  67884.79513636687\n",
            "gear:  43  loss:  72986.36350442677\n",
            "gear:  44  loss:  76677.14150940589\n",
            "gear:  45  loss:  81006.71752919634\n",
            "gear:  46  loss:  82837.18957259489\n",
            "gear:  47  loss:  84182.64049150799\n",
            "gear:  48  loss:  85280.48162039056\n",
            "gear:  49  loss:  86585.62227024917\n"
          ],
          "name": "stdout"
        }
      ]
    },
    {
      "cell_type": "code",
      "metadata": {
        "id": "8q9_ytGuA8O5",
        "colab": {
          "base_uri": "https://localhost:8080/",
          "height": 279
        },
        "outputId": "f6c38cb4-1617-4231-adf3-aadea8c2d33a"
      },
      "source": [
        "plt.plot(GEAR_tested, loss_obtained)\n",
        "plt.ylabel('loss')\n",
        "plt.xlabel('gear ratio')\n",
        "plt.show()"
      ],
      "execution_count": 22,
      "outputs": [
        {
          "output_type": "display_data",
          "data": {
            "image/png": "[encoded data removed]",
            "text/plain": [
              "<Figure size 432x288 with 1 Axes>"
            ]
          },
          "metadata": {
            "tags": [],
            "needs_background": "light"
          }
        }
      ]
    },
    {
      "cell_type": "markdown",
      "metadata": {
        "id": "11jyA8gNBZh5"
      },
      "source": [
        "Again, it's clear that the best gear ratio is 40"
      ]
    },
    {
      "cell_type": "markdown",
      "metadata": {
        "id": "-iO2FAunBlt7"
      },
      "source": [
        "## Conclusions"
      ]
    },
    {
      "cell_type": "markdown",
      "metadata": {
        "id": "0uAVJHhpBrEJ"
      },
      "source": [
        "Y0 found: 0.494 meters \n",
        "\n",
        "(apparent baseline = 2*Y0 : 0.988 meters)\n",
        "\n",
        "Gear ratio found: 40"
      ]
    },
    {
      "cell_type": "markdown",
      "metadata": {
        "id": "jEYvy1P_ErwO"
      },
      "source": [
        "This optimization is very rough, since the loss function is a simple root sum of the squared errors of three values: position x, position y and orientation. However, even this rough loss function showed clear minimums for both Y0 and gear ratio. The values found generated gave also good results in the ROS simulations. I think that a loss function that normalise the errors between the ones that come from meters (x and y) and the ones that come from radiants (orientation) could be better in expressing the goal, but I was unsure on the criteria to use, since a bad normalization can be hurtful in an optimization task. "
      ]
    }
  ]
}